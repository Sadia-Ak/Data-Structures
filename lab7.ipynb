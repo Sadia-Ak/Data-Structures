{
 "cells": [
  {
   "cell_type": "code",
   "execution_count": 1,
   "metadata": {},
   "outputs": [
    {
     "name": "stdout",
     "output_type": "stream",
     "text": [
      "The Depth-first Traversal with source 0 is\n",
      "0 1 3 5 2 4 \n",
      "Depth-first traversal with source zero using stack\n",
      "0 2 4 5 3 1 "
     ]
    }
   ],
   "source": [
    "from collections import defaultdict\n",
    "\n",
    "class Graph:\n",
    "    def __init__(self, V):\n",
    "        self.V = V\n",
    "        self.adj = defaultdict(list)\n",
    "\n",
    "    def addEdge(self, v, w):\n",
    "        self.adj[v].append(w)\n",
    "\n",
    "    def DFSREC(self, v, visited):\n",
    "        visited[v] = True\n",
    "        print(v, end=\" \")\n",
    "\n",
    "        for n in self.adj[v]:  # This loop iterates over all the adjacent vertices of the current vertex v\n",
    "            if not visited[n]: # Checks if the adjacent vertex \n",
    "                self.DFSREC(n, visited)\n",
    "         \n",
    "    def DFS(self, v): #perform a recursive\n",
    "        visited = [False] * self.V #creates a boolean array\n",
    "        self.DFSREC(v, visited)\n",
    "\n",
    "    def DFSStack(self, s):\n",
    "        visited = [False] * self.V # reates a stack \n",
    "        stack = [s]\n",
    "\n",
    "        while stack: # loop will continue as long as the stack is not empty\n",
    "            s = stack.pop() # is used to track of the vertices to explored to the next one\n",
    "\n",
    "            if not visited[s]: # checkes if the vertex has not been visted yet.\n",
    "                print(s, end=\" \")\n",
    "                visited[s] = True # ensure that vertex don't visit again.\n",
    "\n",
    "            for v in self.adj[s]: # iterates \n",
    "                if not visited[v]:\n",
    "                    stack.append(v)\n",
    "\n",
    "\n",
    "# test Case \n",
    "if __name__ == \"__main__\":\n",
    "    g = Graph(7)\n",
    "    g.addEdge(0, 1)\n",
    "    g.addEdge(0, 2)\n",
    "    g.addEdge(2, 3)\n",
    "    g.addEdge(2, 4)\n",
    "    g.addEdge(4, 5)\n",
    "    g.addEdge(1, 3)\n",
    "    g.addEdge(3, 5)\n",
    "\n",
    "    print(\"The Depth-first Traversal with source 0 is\")\n",
    "    g.DFS(0)\n",
    "    # out is 0 1 3 5 2 4 \n",
    "    print()\n",
    "    print(\"Depth-first traversal with source zero using stack\")\n",
    "    g.DFSStack(0)\n",
    "      # out is 0 2 4 5 3 1 \n"
   ]
  }
 ],
 "metadata": {
  "kernelspec": {
   "display_name": "Python 3",
   "language": "python",
   "name": "python3"
  },
  "language_info": {
   "codemirror_mode": {
    "name": "ipython",
    "version": 3
   },
   "file_extension": ".py",
   "mimetype": "text/x-python",
   "name": "python",
   "nbconvert_exporter": "python",
   "pygments_lexer": "ipython3",
   "version": "3.10.6"
  },
  "orig_nbformat": 4
 },
 "nbformat": 4,
 "nbformat_minor": 2
}
