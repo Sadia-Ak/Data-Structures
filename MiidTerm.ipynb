{
 "cells": [
  {
   "cell_type": "code",
   "execution_count": 7,
   "metadata": {},
   "outputs": [
    {
     "name": "stdout",
     "output_type": "stream",
     "text": [
      "[11, 21, 33, 40, 50]\n",
      "[]\n",
      "[9]\n",
      "[9, 15, 20, 30, 80]\n",
      "[9, 20, 31, 45, 55]\n"
     ]
    }
   ],
   "source": [
    "def partition(array, low, high):\n",
    "    pivot = array[high]\n",
    "    i = low - 1\n",
    "    for j in range(low, high):\n",
    "        if array[j] <= pivot:\n",
    "            i = i + 1\n",
    "            (array[i], array[j]) = (array[j], array[i])\n",
    "\n",
    "    (array[i + 1], array[high]) = (array[high], array[i + 1])\n",
    "\n",
    "    return i + 1\n",
    "\n",
    "\n",
    "def quicksort(array, low, high):\n",
    "    \n",
    "    if low < high:\n",
    "        pivot = partition(array, low, high)\n",
    "        quicksort(array, low, pivot - 1)\n",
    "        quicksort(array, pivot + 1, high)\n",
    "\n",
    "def deDulplication(array):\n",
    "    quicksort(array, 0, len(array)-1)\n",
    "\n",
    "    i = 0\n",
    "    while i < len(array)-1:\n",
    "        if array[i] == array[i+1]:\n",
    "            array.remove(array[i+1])\n",
    "        else:\n",
    "            i += 1\n",
    "\n",
    "\n",
    "if __name__ == '__main__':\n",
    "    \n",
    "    array1 = [50, 11, 33, 21, 40, 50, 40, 40, 21]\n",
    "    deDulplication(array1)\n",
    "    print(array1)\n",
    "\n",
    "    array2 = []\n",
    "    deDulplication(array2)\n",
    "    print(array2)\n",
    "\n",
    "    array3 = [9]\n",
    "    deDulplication(array3)\n",
    "    print(array3)\n",
    "\n",
    "\n",
    "    array4 = [9, 20, 30, 15, 80]\n",
    "    deDulplication(array4)\n",
    "    print(array4)\n",
    "\n",
    "    array5 = [9, 9, 20, 31, 31, 45, 55]\n",
    "    deDulplication(array5)\n",
    "    print(array5)\n"
   ]
  },
  {
   "cell_type": "code",
   "execution_count": 18,
   "metadata": {},
   "outputs": [
    {
     "name": "stdout",
     "output_type": "stream",
     "text": [
      "1\n"
     ]
    }
   ],
   "source": [
    "def binary_search(array, target):\n",
    "    left = 0\n",
    "    right = len(array) - 1\n",
    "    while left <= right:\n",
    "        mid = left + (right - left) // 2\n",
    "        if array[mid] == target:\n",
    "            return mid\n",
    "        elif array[mid] < target:\n",
    "            left = mid + 1\n",
    "        else:\n",
    "            right = mid - 1\n",
    "    return -1\n",
    "\n",
    "def main():\n",
    "    ARRAY = [11, 21, 33, 40, 50]\n",
    "    target = 21\n",
    "    index = binary_search(ARRAY, target)\n",
    "    if index == -1:\n",
    "        print(\"Not Found\")\n",
    "    else:\n",
    "        print(index)\n",
    "\n",
    "if __name__ == \"__main__\":\n",
    "    main()\n",
    "\n"
   ]
  }
 ],
 "metadata": {
  "kernelspec": {
   "display_name": "Python 3",
   "language": "python",
   "name": "python3"
  },
  "language_info": {
   "codemirror_mode": {
    "name": "ipython",
    "version": 3
   },
   "file_extension": ".py",
   "mimetype": "text/x-python",
   "name": "python",
   "nbconvert_exporter": "python",
   "pygments_lexer": "ipython3",
   "version": "3.10.6"
  },
  "orig_nbformat": 4
 },
 "nbformat": 4,
 "nbformat_minor": 2
}
