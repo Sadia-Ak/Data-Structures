{
 "cells": [
  {
   "cell_type": "code",
   "execution_count": 6,
   "metadata": {},
   "outputs": [
    {
     "name": "stdout",
     "output_type": "stream",
     "text": [
      "[6, 9, 11, 21]\n"
     ]
    }
   ],
   "source": [
    "def remove_duplicates(arr):\n",
    "  arr.sort()\n",
    "  res = []\n",
    "  for a in arr:\n",
    "    if len(res) > 0 and res[-1] == a:\n",
    "      continue\n",
    "    res.append(a)\n",
    "  return res\n",
    "\n",
    "\n",
    "if __name__ == \"__main__\":\n",
    "  arr1 = [1, 5, 6, 6, 9, 9, 9, 11, 11, 21]\n",
    "  arr2 = [6, 6, 9, 11, 21, 21, 21]\n",
    "  arr3 = []\n",
    "\n",
    "  for a in arr1:\n",
    "    for b in arr2:\n",
    "      if a == b:\n",
    "        arr3.append(a)\n",
    "        break\n",
    "\n",
    "  # arr3 might have duplicates \n",
    "  # print(arr3)\n",
    "  arr = remove_duplicates(arr3)\n",
    "  print(arr)"
   ]
  },
  {
   "cell_type": "code",
   "execution_count": null,
   "metadata": {},
   "outputs": [],
   "source": []
  },
  {
   "cell_type": "code",
   "execution_count": 7,
   "metadata": {},
   "outputs": [
    {
     "name": "stdout",
     "output_type": "stream",
     "text": [
      "[6, 9, 11, 21]\n"
     ]
    }
   ],
   "source": [
    "\n",
    "def remove_duplicates(arr):\n",
    "  arr.sort()\n",
    "  res = []\n",
    "  for a in arr:\n",
    "    if len(res) > 0 and res[-1] == a:\n",
    "      continue\n",
    "    res.append(a)\n",
    "  return res\n",
    "\n",
    "\n",
    "def binary_search(arr, x):\n",
    "  low = 0\n",
    "  high = len(arr)-1\n",
    "  mid = 0\n",
    "\n",
    "  while low <= high:\n",
    "    mid = (high + low) // 2\n",
    "    # If element is present at the middle itself\n",
    "    if arr[mid] == x:\n",
    "      return True\n",
    "    # If element is smaller than mid, then it can only, be present in left subarray\n",
    "    elif arr[mid] > x:\n",
    "      high = mid - 1\n",
    "    # Else the element can only be present in right subarray\n",
    "    else:\n",
    "      low = mid + 1\n",
    "  return False\n",
    "\n",
    "\n",
    "if __name__ == \"__main__\":\n",
    "  arr1 = [1, 5, 6, 6, 9, 9, 9, 11, 11, 21]\n",
    "  arr2 = [6, 6, 9, 11, 21, 21, 21]\n",
    "  arr3 = []\n",
    "\n",
    "  for a in arr1:\n",
    "    if binary_search(arr2, a):\n",
    "      arr3.append(a)\n",
    "\n",
    "  # arr3 might have duplicates \n",
    "  # print(arr3)\n",
    "  arr = remove_duplicates(arr3)\n",
    "  print(arr)"
   ]
  },
  {
   "cell_type": "code",
   "execution_count": null,
   "metadata": {},
   "outputs": [],
   "source": []
  },
  {
   "cell_type": "code",
   "execution_count": 4,
   "metadata": {},
   "outputs": [
    {
     "name": "stdout",
     "output_type": "stream",
     "text": [
      "[11, 21, 33, 40, 50]\n",
      "[]\n",
      "[11]\n",
      "[40]\n",
      "[21, 33, 40, 50]\n"
     ]
    }
   ],
   "source": [
    "def Merge_sort(array):\n",
    "    # sorting using merge sort algorithm\n",
    "    if len(array) <= 1:\n",
    "        # if the array is less than or equal to 1 then the array is already sorted\n",
    "        return array\n",
    "    pivot = array[0]\n",
    "    lower = []\n",
    "    higher = []\n",
    "    for i in range(1, len(array)):\n",
    "        #loop iterates of the array\n",
    "        if array[i] < pivot:\n",
    "            lower.append(array[i])\n",
    "        else:\n",
    "            higher.append(array[i])\n",
    "    # calls Merge Sort on lower and higher to sort them\n",
    "    return Merge_sort(lower) + [pivot] + Merge_sort(higher)\n",
    "\n",
    "def De_Duplicate(array):\n",
    "    # Merge sort calls on array1 to array1\n",
    "    array1 = Merge_sort(array)\n",
    "    if len(array1) <= 1:\n",
    "        # if array1 is less than or equal to 1 the there are no duplicates \n",
    "        return array1\n",
    "    # therefor it return array1\n",
    "    i = 1 \n",
    "    while i < len(array1):\n",
    "        # loop is used to iterate if i is less than array1\n",
    "        if array1[i] == array1[i-1]:\n",
    "            for j in range (i, len (array1)-1):\n",
    "                array1[j] = array1[j+1]\n",
    "            # element is used to remove using the pop()\n",
    "            array1.pop()\n",
    "        else:\n",
    "        #if duplicate is not found than it is incremented by 1 to move to the next element \n",
    "            i += 1\n",
    "    return array1\n",
    "\n",
    "# test Case\n",
    "print (De_Duplicate([50, 11, 33, 21, 40, 50, 40, 40, 21]))\n",
    "# output is [11, 21, 33, 40, 50]\n",
    "print (De_Duplicate([]))\n",
    "# output is []\n",
    "print (De_Duplicate([11]))\n",
    "# output is [11]\n",
    "print (De_Duplicate([40,40]))\n",
    "# output is [40]\n",
    "print (De_Duplicate([21,33,40,50]))\n",
    "# output is [21,33,40,50]"
   ]
  }
 ],
 "metadata": {
  "kernelspec": {
   "display_name": "Python 3",
   "language": "python",
   "name": "python3"
  },
  "language_info": {
   "codemirror_mode": {
    "name": "ipython",
    "version": 3
   },
   "file_extension": ".py",
   "mimetype": "text/x-python",
   "name": "python",
   "nbconvert_exporter": "python",
   "pygments_lexer": "ipython3",
   "version": "3.10.6"
  },
  "orig_nbformat": 4
 },
 "nbformat": 4,
 "nbformat_minor": 2
}
