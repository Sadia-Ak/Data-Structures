{
 "cells": [
  {
   "cell_type": "code",
   "execution_count": 11,
   "metadata": {},
   "outputs": [
    {
     "name": "stdout",
     "output_type": "stream",
     "text": [
      "[6, 9, 11, 21]\n"
     ]
    }
   ],
   "source": [
    "def remove_duplicates(array):\n",
    "    array.sort()\n",
    "    # sorts the elements of array in ascending order.\n",
    "    result = []\n",
    "    # iterates over each element. \n",
    "    for i in array:\n",
    "        if len(result) > 0 and result[-1] == i: # ckecks if the is empty and is equal to current element. \n",
    "            continue\n",
    "        result.append(i)\n",
    "    return result\n",
    "\n",
    "if __name__ == \"__main__\":\n",
    "    array1 = [1, 5, 6, 6, 9, 9, 9, 11, 11, 21]\n",
    "    array2 = [6, 6, 9, 11, 21, 21, 21]\n",
    "    array3 = []\n",
    "\n",
    "    # iterates over each element \n",
    "    # compares each element of array1 and array 2 \n",
    "    # appends to array 3 if there is matching element. \n",
    "    for i in array1:\n",
    "        for j in array2:\n",
    "            if i == j:\n",
    "                array3.append(i)\n",
    "                break\n",
    "    \n",
    "    array = remove_duplicates(array3)\n",
    "    print(array)\n",
    "\n",
    "\n",
    "  "
   ]
  },
  {
   "cell_type": "code",
   "execution_count": 13,
   "metadata": {},
   "outputs": [
    {
     "name": "stdout",
     "output_type": "stream",
     "text": [
      "[6, 9, 11, 21]\n"
     ]
    }
   ],
   "source": [
    "def BinarySearch(array1, array2):\n",
    "    lower = 0\n",
    "    upper = 0\n",
    "    mid = 0\n",
    "\n",
    "    while lower <= upper:\n",
    "        # is calculated by take the averge \n",
    "        mid = (upper + lower) // 2 \n",
    "        if array1[mid] == array2:\n",
    "            # if array 1 is equal array 2, than it will retuen true \n",
    "            return True\n",
    "        elif array1[mid] > array2:\n",
    "            upper = mid - 1 \n",
    "        else:\n",
    "            lower = mid + 1\n",
    "    return False\n",
    "\n",
    "\n",
    "def remove_duplicates(array):\n",
    "    array.sort()\n",
    "    result = []\n",
    "    for i in array:\n",
    "        if len(result) > 0 and result[-1] == i: \n",
    "            continue\n",
    "        result.append(i)\n",
    "    return result\n",
    "\n",
    "if __name__ == \"__main__\":\n",
    "  array3 = [1, 5, 6, 6, 9, 9, 9, 11, 11, 21]\n",
    "  array4 = [6, 6, 9, 11, 21, 21, 21]\n",
    "  array5 = []\n",
    "  \n",
    "  for i in array3:\n",
    "      if BinarySearch(array4, i):\n",
    "          array5.append(i)\n",
    "    \n",
    "array1 = remove_duplicates(array5)\n",
    "print(array)\n"
   ]
  },
  {
   "cell_type": "code",
   "execution_count": null,
   "metadata": {},
   "outputs": [],
   "source": []
  }
 ],
 "metadata": {
  "kernelspec": {
   "display_name": "Python 3",
   "language": "python",
   "name": "python3"
  },
  "language_info": {
   "codemirror_mode": {
    "name": "ipython",
    "version": 3
   },
   "file_extension": ".py",
   "mimetype": "text/x-python",
   "name": "python",
   "nbconvert_exporter": "python",
   "pygments_lexer": "ipython3",
   "version": "3.10.6"
  },
  "orig_nbformat": 4
 },
 "nbformat": 4,
 "nbformat_minor": 2
}
