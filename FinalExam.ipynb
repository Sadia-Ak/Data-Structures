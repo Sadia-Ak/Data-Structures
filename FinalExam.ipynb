{
 "cells": [
  {
   "cell_type": "code",
   "execution_count": 2,
   "metadata": {},
   "outputs": [
    {
     "name": "stdout",
     "output_type": "stream",
     "text": [
      "[1, 2, 3, 4, 6]\n"
     ]
    }
   ],
   "source": [
    "def find(data):\n",
    "  result = set()\n",
    "\n",
    "  list = []\n",
    "\n",
    "  for i in data:\n",
    "    \n",
    "    if i not in result:\n",
    "      result.add(i)\n",
    "      list.append(i)\n",
    "\n",
    "  return list\n",
    "\n",
    "\n",
    "if __name__ == '__main__':\n",
    "  \n",
    "  data = [1,2,3,4,4,6,6,6]\n",
    "\n",
    "  ans = find(data)\n",
    "\n",
    "  print(ans)\n"
   ]
  },
  {
   "cell_type": "code",
   "execution_count": 6,
   "metadata": {},
   "outputs": [
    {
     "name": "stdout",
     "output_type": "stream",
     "text": [
      "12\n"
     ]
    }
   ],
   "source": [
    "def postfixexpression(Expression):\n",
    "    Expression = ''.join(Expression)\n",
    "    st = []\n",
    "    for i in range(len(Expression)):\n",
    "        j = Expression[i]\n",
    "\n",
    "        if (j >= '0' and j <= '9'):\n",
    "            temp = int(j)\n",
    "            st.append(temp)\n",
    "        \n",
    "        \n",
    "        else:\n",
    "            \n",
    "            num1 = st.pop()\n",
    "            \n",
    "            num2 = st.pop()\n",
    "\n",
    "            if (j == '+'):\n",
    "                st.append(num2 + num1)\n",
    "            elif (j == '-'):\n",
    "                st.append(num2 - num1)\n",
    "            elif (j == '*'):\n",
    "                st.append(num2 * num1)\n",
    "            elif (j == '/'):\n",
    "                st.append(num2 / num1)\n",
    "                \n",
    "    return st.pop()\n",
    "Expression = [\"2\",\"1\",\"+\",\"4\",\"*\"]\n",
    "#\n",
    "\n",
    "print(postfixexpression(Expression))"
   ]
  },
  {
   "cell_type": "code",
   "execution_count": 7,
   "metadata": {},
   "outputs": [
    {
     "name": "stdout",
     "output_type": "stream",
     "text": [
      "2>3>1>7>5>18>NULL\n",
      "2>3>1>5>18>NULL\n"
     ]
    }
   ],
   "source": [
    "class LinkedList:\n",
    "    class Node:\n",
    "        data = 0\n",
    "        next = None\n",
    "\n",
    "        def __init__(self, data):\n",
    "            self.data = data\n",
    "            self.next = None\n",
    "    head = None\n",
    "    tail = None\n",
    "\n",
    "    def firstNode(self, data):\n",
    "        newNode = LinkedList.Node(data)\n",
    "        if (LinkedList.head == None):\n",
    "            LinkedList.head = newNode\n",
    "            LinkedList.tail = newNode\n",
    "            return\n",
    "        newNode.next = LinkedList.head\n",
    "        LinkedList.head = newNode\n",
    "\n",
    "    def deleteNode(self, n):\n",
    "        size = 0\n",
    "        temp = LinkedList.head\n",
    "        while (temp != None):\n",
    "            temp = temp.next\n",
    "            size += 1\n",
    "        if (n == size):\n",
    "            LinkedList.head = LinkedList.head.next\n",
    "            return\n",
    "        i = 1\n",
    "        iToFind = size - n\n",
    "        prev = LinkedList.head\n",
    "        while (i < iToFind):\n",
    "            prev = prev.next\n",
    "            i += 1\n",
    "        prev.next = prev.next.next\n",
    "        return\n",
    "\n",
    "    def print(self):\n",
    "        temp = LinkedList.head\n",
    "        while (temp != None):\n",
    "            print(str(temp.data) + \">\", end=\"\")\n",
    "            temp = temp.next\n",
    "        print(\"NULL\")\n",
    "\n",
    "    @staticmethod\n",
    "    def main(args):\n",
    "        a = LinkedList()\n",
    "        a.firstNode(18)\n",
    "        a.firstNode(5)\n",
    "        a.firstNode(7)\n",
    "        a.firstNode(1)\n",
    "        a.firstNode(3)\n",
    "        a.firstNode(2)\n",
    "        a.print()\n",
    "        a.deleteNode(3)\n",
    "        a.print()\n",
    "\n",
    "\n",
    "if __name__ == \"__main__\":\n",
    "    LinkedList.main([])"
   ]
  },
  {
   "cell_type": "code",
   "execution_count": 8,
   "metadata": {},
   "outputs": [
    {
     "name": "stdout",
     "output_type": "stream",
     "text": [
      "4 2 6 1 3 5 7 "
     ]
    }
   ],
   "source": [
    "from collections import deque\n",
    "\n",
    "class Node:\n",
    "    def __init__(self, key):\n",
    "     #takes one parameter\n",
    "        self.data = key\n",
    "        # stores the value associated with the node.\n",
    "        self.left = None\n",
    "        self.right = None\n",
    "        #  represents the left and right of the node\n",
    "\n",
    "class BinaryTree:\n",
    "    def __init__(self):\n",
    "        self.root = None\n",
    "        # represents the root node of the binary tree.\n",
    "\n",
    "def classoforder(r): # take the argument r\n",
    "    if r is None:\n",
    "        return\n",
    "    q = deque()\n",
    "    q.append(r)\n",
    "    # The root node r is then appended to the deque q using the append()\n",
    "    while len(q) > 0:  # it iterate as long as the deque q is not empty.\n",
    "        c = q[0]\n",
    "        print(c.data, end=\" \")\n",
    "        \n",
    "        if c.left is not None:\n",
    "            q.append(c.left)\n",
    "        if c.right is not None:\n",
    "            q.append(c.right)\n",
    "        \n",
    "        q.popleft()\n",
    "    \n",
    "# Test case\n",
    "if __name__ == \"__main__\":\n",
    "    tree = BinaryTree()\n",
    "    tree.root = Node(4)\n",
    "    # output is 4\n",
    "    tree.root.left = Node(2)\n",
    "    # output is 2\n",
    "    tree.root.right = Node(6)\n",
    "    # output is 6\n",
    "    tree.root.left.left = Node(1)\n",
    "    # output is 1\n",
    "    tree.root.left.right = Node(3)\n",
    "    # output is 3\n",
    "    tree.root.right.left = Node(5)\n",
    "    # output is 5\n",
    "    tree.root.right.right = Node(7)\n",
    "    # output is 7\n",
    "    \n",
    "    classoforder(tree.root)"
   ]
  }
 ],
 "metadata": {
  "kernelspec": {
   "display_name": "Python 3",
   "language": "python",
   "name": "python3"
  },
  "language_info": {
   "codemirror_mode": {
    "name": "ipython",
    "version": 3
   },
   "file_extension": ".py",
   "mimetype": "text/x-python",
   "name": "python",
   "nbconvert_exporter": "python",
   "pygments_lexer": "ipython3",
   "version": "3.10.6"
  },
  "orig_nbformat": 4
 },
 "nbformat": 4,
 "nbformat_minor": 2
}
