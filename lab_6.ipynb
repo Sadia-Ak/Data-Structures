{
 "cells": [
  {
   "cell_type": "code",
   "execution_count": 2,
   "metadata": {},
   "outputs": [
    {
     "name": "stdout",
     "output_type": "stream",
     "text": [
      "4 2 6 1 3 5 7 "
     ]
    }
   ],
   "source": [
    "from collections import deque\n",
    "\n",
    "class Node:\n",
    "    def __init__(self, key):\n",
    "     #takes one parameter\n",
    "        self.data = key\n",
    "        # stores the value associated with the node.\n",
    "        self.left = None\n",
    "        self.right = None\n",
    "        #  represents the left and right of the node\n",
    "\n",
    "class BinaryTree:\n",
    "    def __init__(self):\n",
    "        self.root = None\n",
    "        # represents the root node of the binary tree.\n",
    "\n",
    "def classoforder(r): # take the argument r\n",
    "    if r is None:\n",
    "        return\n",
    "    q = deque()\n",
    "    q.append(r)\n",
    "    # The root node r is then appended to the deque q using the append()\n",
    "    while len(q) > 0:  # it iterate as long as the deque q is not empty.\n",
    "        c = q[0]\n",
    "        print(c.data, end=\" \")\n",
    "        \n",
    "        if c.left is not None:\n",
    "            q.append(c.left)\n",
    "        if c.right is not None:\n",
    "            q.append(c.right)\n",
    "        \n",
    "        q.popleft()\n",
    "    \n",
    "# Test case\n",
    "if __name__ == \"__main__\":\n",
    "    tree = BinaryTree()\n",
    "    tree.root = Node(4)\n",
    "    # output is 4\n",
    "    tree.root.left = Node(2)\n",
    "    # output is 2\n",
    "    tree.root.right = Node(6)\n",
    "    # output is 6\n",
    "    tree.root.left.left = Node(1)\n",
    "    # output is 1\n",
    "    tree.root.left.right = Node(3)\n",
    "    # output is 3\n",
    "    tree.root.right.left = Node(5)\n",
    "    # output is 5\n",
    "    tree.root.right.right = Node(7)\n",
    "    # output is 7\n",
    "    \n",
    "    classoforder(tree.root)"
   ]
  },
  {
   "cell_type": "code",
   "execution_count": null,
   "metadata": {},
   "outputs": [],
   "source": []
  }
 ],
 "metadata": {
  "kernelspec": {
   "display_name": "Python 3",
   "language": "python",
   "name": "python3"
  },
  "language_info": {
   "codemirror_mode": {
    "name": "ipython",
    "version": 3
   },
   "file_extension": ".py",
   "mimetype": "text/x-python",
   "name": "python",
   "nbconvert_exporter": "python",
   "pygments_lexer": "ipython3",
   "version": "3.10.6"
  },
  "orig_nbformat": 4
 },
 "nbformat": 4,
 "nbformat_minor": 2
}
