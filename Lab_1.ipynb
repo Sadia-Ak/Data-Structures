{
 "cells": [
  {
   "cell_type": "code",
   "execution_count": 17,
   "metadata": {},
   "outputs": [
    {
     "name": "stdout",
     "output_type": "stream",
     "text": [
      "Hello, Firstname Lastname!\n"
     ]
    }
   ],
   "source": [
    "# Part 1\n",
    "def class_name():\n",
    "    name = input(\"What is your name?\\n\")\n",
    "    while not name:\n",
    "        print(\"Please enter your name:\")\n",
    "        name = input(\"Please enter your name: \")\n",
    "    print(f\"Hello, {name}!\")\n",
    "\n",
    "\n",
    "# Call the function\n",
    "class_name()"
   ]
  },
  {
   "cell_type": "code",
   "execution_count": 1,
   "metadata": {},
   "outputs": [
    {
     "name": "stdout",
     "output_type": "stream",
     "text": [
      "[11, 21, 33, 40, 50]\n",
      "[]\n",
      "[10]\n",
      "[10, 15, 20, 30, 50]\n",
      "[10, 20, 30, 45, 50]\n"
     ]
    }
   ],
   "source": [
    "def partition(array, low, high):\n",
    "\n",
    "    # consider the last element of the array as a pivot\n",
    "    pivot = array[high]\n",
    "\n",
    "    # pointer to an element greater than the element at a high position\n",
    "    i = low - 1\n",
    "\n",
    "    # iterate through all the elements of the array\n",
    "    # compare each element with the pivot\n",
    "    for j in range(low, high):\n",
    "\n",
    "        # if an element is smaller than the pivot\n",
    "        # swap it with the element pointed by i\n",
    "        if array[j] <= pivot:\n",
    "            i = i + 1\n",
    "            (array[i], array[j]) = (array[j], array[i])\n",
    "\n",
    "    # swap the pivot with the greater element at position i\n",
    "    (array[i + 1], array[high]) = (array[high], array[i + 1])\n",
    "\n",
    "    # return the index where the array is partitioned\n",
    "    return i + 1\n",
    "\n",
    "\n",
    "# function to perform quicksort\n",
    "def quicksort(array, low, high):\n",
    "    \n",
    "    if low < high:\n",
    "        # call the partition function on the array\n",
    "        pivot = partition(array, low, high)\n",
    "\n",
    "        # recursively call quicksort on both the sub-arrays\n",
    "        quicksort(array, low, pivot - 1)\n",
    "        quicksort(array, pivot + 1, high)\n",
    "\n",
    "# function to remove duplicates from the array\n",
    "def deDulplication(array):\n",
    "\n",
    "    # sort the array using mergesort\n",
    "    quicksort(array, 0, len(array)-1)\n",
    "\n",
    "    # index of the array\n",
    "    i = 0\n",
    "\n",
    "    # iterate through the elements of the array\n",
    "    while i < len(array)-1:\n",
    "\n",
    "        # if the element in the current position is the same as the next element\n",
    "        # remove the next element\n",
    "        # else\n",
    "        # change position to the next element\n",
    "        if array[i] == array[i+1]:\n",
    "            array.remove(array[i+1])\n",
    "        else:\n",
    "            i += 1\n",
    "\n",
    "\n",
    "# Driver program\n",
    "if __name__ == '__main__':\n",
    "    \n",
    "    # an array given in the example\n",
    "    example1 = [50, 11, 33, 21, 40, 50, 40, 40, 21]\n",
    "    deDulplication(example1)\n",
    "    print(example1)\n",
    "\n",
    "    # a null array\n",
    "    example2 = []\n",
    "    deDulplication(example2)\n",
    "    print(example2)\n",
    "\n",
    "    #array with a single element\n",
    "    example3 = [10]\n",
    "    deDulplication(example3)\n",
    "    print(example3)\n",
    "\n",
    "    #array with no-duplicates\n",
    "    example4 = [10, 30, 20, 15, 50]\n",
    "    deDulplication(example4)\n",
    "    print(example4)\n",
    "\n",
    "    #array that is already sorted\n",
    "    example5 = [10, 10, 20, 30, 30, 45, 50]\n",
    "    deDulplication(example5)\n",
    "    print(example5)\n"
   ]
  },
  {
   "cell_type": "code",
   "execution_count": 2,
   "metadata": {},
   "outputs": [
    {
     "ename": "ValueError",
     "evalue": "invalid literal for int() with base 10: 'Enter'",
     "output_type": "error",
     "traceback": [
      "\u001b[0;31m---------------------------------------------------------------------------\u001b[0m",
      "\u001b[0;31mValueError\u001b[0m                                Traceback (most recent call last)",
      "\u001b[1;32m/Users/sadiaakther/Desktop/Desktop - sadia’s MacBook Pro/Data Sci/Lab_1.ipynb Cell 3\u001b[0m in \u001b[0;36m<cell line: 5>\u001b[0;34m()\u001b[0m\n\u001b[1;32m      <a href='vscode-notebook-cell:/Users/sadiaakther/Desktop/Desktop%20-%20sadia%E2%80%99s%20MacBook%20Pro/Data%20Sci/Lab_1.ipynb#W1sZmlsZQ%3D%3D?line=1'>2</a>\u001b[0m \u001b[39mimport\u001b[39;00m \u001b[39mrandom\u001b[39;00m\n\u001b[1;32m      <a href='vscode-notebook-cell:/Users/sadiaakther/Desktop/Desktop%20-%20sadia%E2%80%99s%20MacBook%20Pro/Data%20Sci/Lab_1.ipynb#W1sZmlsZQ%3D%3D?line=3'>4</a>\u001b[0m \u001b[39m#take the value of n\u001b[39;00m\n\u001b[0;32m----> <a href='vscode-notebook-cell:/Users/sadiaakther/Desktop/Desktop%20-%20sadia%E2%80%99s%20MacBook%20Pro/Data%20Sci/Lab_1.ipynb#W1sZmlsZQ%3D%3D?line=4'>5</a>\u001b[0m n\u001b[39m=\u001b[39m\u001b[39mint\u001b[39;49m(\u001b[39minput\u001b[39;49m(\u001b[39m\"\u001b[39;49m\u001b[39mEnter n: \u001b[39;49m\u001b[39m\"\u001b[39;49m))\n\u001b[1;32m      <a href='vscode-notebook-cell:/Users/sadiaakther/Desktop/Desktop%20-%20sadia%E2%80%99s%20MacBook%20Pro/Data%20Sci/Lab_1.ipynb#W1sZmlsZQ%3D%3D?line=5'>6</a>\u001b[0m \u001b[39mwhile\u001b[39;00m n\u001b[39m<\u001b[39m\u001b[39m=\u001b[39m\u001b[39m0\u001b[39m:\n\u001b[1;32m      <a href='vscode-notebook-cell:/Users/sadiaakther/Desktop/Desktop%20-%20sadia%E2%80%99s%20MacBook%20Pro/Data%20Sci/Lab_1.ipynb#W1sZmlsZQ%3D%3D?line=6'>7</a>\u001b[0m     n\u001b[39m=\u001b[39m\u001b[39mint\u001b[39m(\u001b[39minput\u001b[39m(\u001b[39m\"\u001b[39m\u001b[39mEnter a positive integer for n: \u001b[39m\u001b[39m\"\u001b[39m))\n",
      "\u001b[0;31mValueError\u001b[0m: invalid literal for int() with base 10: 'Enter'"
     ]
    }
   ],
   "source": [
    "# Part 2\n",
    "import random\n",
    "\n",
    "#take the value of n\n",
    "n=int(input(\"Enter n: \"))\n",
    "while n<=0:\n",
    "    n=int(input(\"Enter a positive integer for n: \"))\n",
    "    # if n is enter as negative number, it would ask it enter a positive number. \n",
    "print(\"Welcome to Guess My Number!\")\n",
    "print(\"Please think of a number between 0 and %d\"%(n))\n",
    "#setting the guessing number \n",
    "lower_bound=0\n",
    "upper_bound=n\n",
    "while True:\n",
    "    #generate a random number\n",
    "    guess_num=random.randint(lower_bound,upper_bound)\n",
    "    print(\"Is yout number: %d?\"%(guess_num))\n",
    "    print(\"Please enter C for correct, H for too high, or L for too low.\")\n",
    "    exit=0\n",
    "    while True:\n",
    "        guess_number=input(\"Enter your response(H/L/C): \")\n",
    "        if guess_number==\"H\":\n",
    "            upper_bound=guess_num-1\n",
    "            break\n",
    "        elif guess_number==\"L\":\n",
    "            lower_bound=guess_num+1\n",
    "            break\n",
    "        elif guess_number==\"C\":\n",
    "            exit=1\n",
    "            break\n",
    "    if exit==1:\n",
    "        break\n",
    "print(\"Thank you for playing Guess My Number!\") \n",
    "\n",
    "\n",
    "\n",
    "\n",
    "        \n",
    "\n",
    "\n"
   ]
  },
  {
   "attachments": {},
   "cell_type": "markdown",
   "metadata": {},
   "source": []
  },
  {
   "attachments": {},
   "cell_type": "markdown",
   "metadata": {},
   "source": []
  }
 ],
 "metadata": {
  "kernelspec": {
   "display_name": "Python 3",
   "language": "python",
   "name": "python3"
  },
  "language_info": {
   "codemirror_mode": {
    "name": "ipython",
    "version": 3
   },
   "file_extension": ".py",
   "mimetype": "text/x-python",
   "name": "python",
   "nbconvert_exporter": "python",
   "pygments_lexer": "ipython3",
   "version": "3.10.6"
  },
  "orig_nbformat": 4
 },
 "nbformat": 4,
 "nbformat_minor": 2
}
