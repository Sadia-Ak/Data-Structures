{
 "cells": [
  {
   "cell_type": "code",
   "execution_count": 10,
   "metadata": {},
   "outputs": [
    {
     "name": "stdout",
     "output_type": "stream",
     "text": [
      "4 2 6 1 3 5 7 "
     ]
    }
   ],
   "source": [
    "from collections import deque\n",
    "\n",
    "class Node:\n",
    "    def __init__(self, item):\n",
    "        self.data = item\n",
    "        self.left = None\n",
    "        self.right = None\n",
    "\n",
    "class BinaryTree:\n",
    "    def __init__(self):\n",
    "        self.root = None\n",
    "\n",
    "def LevelOrder(r):\n",
    "    if r is None:\n",
    "        return\n",
    "    \n",
    "    q = deque()\n",
    "    q.append(r)\n",
    "    \n",
    "    while len(q) > 0:\n",
    "        c = q[0]\n",
    "        print(c.data, end=\" \")\n",
    "        \n",
    "        if c.left is not None:\n",
    "            q.append(c.left)\n",
    "        if c.right is not None:\n",
    "            q.append(c.right)\n",
    "        \n",
    "        q.popleft()\n",
    "\n",
    "# Test case\n",
    "if __name__ == \"__main__\":\n",
    "    tree = BinaryTree()\n",
    "    tree.root = Node(4)\n",
    "    # output is 4\n",
    "    tree.root.left = Node(2)\n",
    "    # output is 2\n",
    "    tree.root.right = Node(6)\n",
    "    # output is 6\n",
    "    tree.root.left.left = Node(1)\n",
    "    # output is 1\n",
    "    tree.root.left.right = Node(3)\n",
    "    # output is 3\n",
    "    tree.root.right.left = Node(5)\n",
    "    # output is 5\n",
    "    tree.root.right.right = Node(7)\n",
    "    # output is 7\n",
    "    \n",
    "    LevelOrder(tree.root)\n"
   ]
  }
 ],
 "metadata": {
  "kernelspec": {
   "display_name": "Python 3",
   "language": "python",
   "name": "python3"
  },
  "language_info": {
   "codemirror_mode": {
    "name": "ipython",
    "version": 3
   },
   "file_extension": ".py",
   "mimetype": "text/x-python",
   "name": "python",
   "nbconvert_exporter": "python",
   "pygments_lexer": "ipython3",
   "version": "3.10.6"
  },
  "orig_nbformat": 4
 },
 "nbformat": 4,
 "nbformat_minor": 2
}
